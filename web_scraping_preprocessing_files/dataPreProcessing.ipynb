{
 "cells": [
  {
   "cell_type": "code",
   "execution_count": 36,
   "metadata": {
    "collapsed": true
   },
   "outputs": [],
   "source": [
    "import os\n",
    "import csv\n",
    "from nltk.tokenize import sent_tokenize\n",
    "#os.chdir(\"C:/Users/Nehal/Desktop/CMPS263/project\")\n",
    "cameras=[x.split(\".\")[0] for x in os.listdir(\"C:/Users/Nehal/Desktop/CMPS263/project/AmazonReviews/cameras\")][:25]\n",
    "laptops=[x.split(\".\")[0] for x in os.listdir(\"C:/Users/Nehal/Desktop/CMPS263/project/AmazonReviews/laptops\")][:25]\n",
    "tablets=[x.split(\".\")[0] for x in os.listdir(\"C:/Users/Nehal/Desktop/CMPS263/project/AmazonReviews/tablets\")][:30]\n",
    "mobilephone=[x.split(\".\")[0] for x in os.listdir(\"C:/Users/Nehal/Desktop/CMPS263/project/AmazonReviews/mobilephone\")][:27]\n",
    "tv=[x.split(\".\")[0] for x in os.listdir(\"C:/Users/Nehal/Desktop/CMPS263/project/AmazonReviews/TVs\")][:25]\n",
    "surv=[x.split(\".\")[0] for x in os.listdir(\"C:/Users/Nehal/Desktop/CMPS263/project/AmazonReviews/video_surveillance\")][:25]"
   ]
  },
  {
   "cell_type": "code",
   "execution_count": 37,
   "metadata": {
    "collapsed": false
   },
   "outputs": [
    {
     "name": "stdout",
     "output_type": "stream",
     "text": [
      "laptops 25\n",
      "tablets 30\n",
      "cameras 25\n",
      "mobile 27\n",
      "tv 25\n",
      "surv 25\n"
     ]
    }
   ],
   "source": [
    "print(\"laptops\",len(laptops))\n",
    "print(\"tablets\",len(tablets))\n",
    "print(\"cameras\",len(cameras))\n",
    "print(\"mobile\",len(mobilephone))\n",
    "print(\"tv\",len(tv))\n",
    "print(\"surv\",len(surv))"
   ]
  },
  {
   "cell_type": "code",
   "execution_count": 98,
   "metadata": {
    "collapsed": true
   },
   "outputs": [],
   "source": [
    "import pickle\n",
    "with open('C:/Users/Nehal/Desktop/CMPS263/project/AmazonReviews/cameras.pkl', 'wb') as f:\n",
    "    pickle.dump(cameras, f)\n",
    "\n",
    "with open('C:/Users/Nehal/Desktop/CMPS263/project/AmazonReviews/laptops.pkl', 'wb') as f:\n",
    "    pickle.dump(laptops, f)\n",
    "\n",
    "with open('C:/Users/Nehal/Desktop/CMPS263/project/AmazonReviews/tablets.pkl', 'wb') as f:\n",
    "    pickle.dump(tablets, f)\n",
    "\n",
    "with open('C:/Users/Nehal/Desktop/CMPS263/project/AmazonReviews/mobile.pkl', 'wb') as f:\n",
    "    pickle.dump(mobilephone, f)\n",
    "\n",
    "with open('C:/Users/Nehal/Desktop/CMPS263/project/AmazonReviews/tv.pkl', 'wb') as f:\n",
    "    pickle.dump(tv, f)\n",
    "    \n",
    "with open('C:/Users/Nehal/Desktop/CMPS263/project/AmazonReviews/surv.pkl', 'wb') as f:\n",
    "    pickle.dump(surv, f)"
   ]
  },
  {
   "cell_type": "code",
   "execution_count": 93,
   "metadata": {
    "collapsed": true
   },
   "outputs": [],
   "source": [
    "del cameras[9]"
   ]
  },
  {
   "cell_type": "code",
   "execution_count": 97,
   "metadata": {
    "collapsed": false
   },
   "outputs": [],
   "source": [
    "cameras=cameras[:-3]"
   ]
  },
  {
   "cell_type": "code",
   "execution_count": 31,
   "metadata": {
    "collapsed": false
   },
   "outputs": [],
   "source": [
    "tablets=tablets[0:]"
   ]
  },
  {
   "cell_type": "code",
   "execution_count": 99,
   "metadata": {
    "collapsed": false
   },
   "outputs": [],
   "source": [
    "import json\n",
    "from pprint import pprint\n",
    "\n",
    "tv_data = json.load(open('C:/Users/Nehal/Desktop/CMPS263/project/AmazonReviews/data.json'))"
   ]
  },
  {
   "cell_type": "code",
   "execution_count": 100,
   "metadata": {
    "collapsed": false
   },
   "outputs": [],
   "source": [
    "import math\n",
    "tv_data_map={}\n",
    "tv_data_rating={}\n",
    "tv_data_key=''\n",
    "\n",
    "for i in range(len(tv_data)):\n",
    "    value=0\n",
    "    tv_data_key=tv_data[i][\"name\"]\n",
    "    \n",
    "    tv_data_value=[]\n",
    "    \n",
    "    for j in range(len(tv_data[i][\"reviews\"])):\n",
    "        tv_data_value.append(tv_data[i][\"reviews\"][j][\"review_text\"])\n",
    "        value=value+float(tv_data[i][\"reviews\"][j][\"review_rating\"])\n",
    "    \n",
    "    tv_data_map[tv_data_key]=tv_data_value\n",
    "    tv_data_rating[tv_data_key]=math.floor(value/len(tv_data[i][\"reviews\"]))\n",
    "   \n",
    "\n",
    "\n",
    "\n"
   ]
  },
  {
   "cell_type": "code",
   "execution_count": 101,
   "metadata": {
    "collapsed": false
   },
   "outputs": [],
   "source": [
    " with open(\"C:/Users/Nehal/Desktop/CMPS263/project/AmazonReviews/data1.csv\", 'w', newline='', encoding='utf-8') as f:\n",
    "        myFields = ['model_name', 'review', 'average_rating']\n",
    "        writer = csv.DictWriter(f, fieldnames=myFields)\n",
    "        writer.writeheader()\n",
    "        for key,values in tv_data_map.items():\n",
    "            for v in values:\n",
    "                writer.writerow(\n",
    "                    {'model_name': key, 'review':v,'average_rating':tv_data_rating[key]})"
   ]
  },
  {
   "cell_type": "code",
   "execution_count": null,
   "metadata": {
    "collapsed": true
   },
   "outputs": [],
   "source": []
  }
 ],
 "metadata": {
  "kernelspec": {
   "display_name": "Python 3",
   "language": "python",
   "name": "python3"
  },
  "language_info": {
   "codemirror_mode": {
    "name": "ipython",
    "version": 3
   },
   "file_extension": ".py",
   "mimetype": "text/x-python",
   "name": "python",
   "nbconvert_exporter": "python",
   "pygments_lexer": "ipython3",
   "version": "3.6.0"
  }
 },
 "nbformat": 4,
 "nbformat_minor": 2
}
